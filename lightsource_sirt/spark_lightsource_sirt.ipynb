{
 "cells": [
  {
   "cell_type": "code",
   "execution_count": 17,
   "metadata": {},
   "outputs": [],
   "source": [
    "import tomopy\n",
    "import dxchange\n",
    "import matplotlib.pyplot as plt\n",
    "import time\n",
    "import binascii\n",
    "import tempfile"
   ]
  },
  {
   "cell_type": "markdown",
   "metadata": {},
   "source": [
    "## Spark lightsource-(Sirt,Gridrec) Total time to Completion "
   ]
  },
  {
   "cell_type": "code",
   "execution_count": 50,
   "metadata": {},
   "outputs": [
    {
     "name": "stdout",
     "output_type": "stream",
     "text": [
      "[0]\n",
      "gridrec TTC is:  5.4723470211\n",
      "CPU times: user 14.8 ms, sys: 7.54 ms, total: 22.4 ms\n",
      "Wall time: 5.49 s\n"
     ]
    }
   ],
   "source": [
    "%%time \n",
    "def lightsource_reconstruction_spark(message, algo='gridrec'):\n",
    "    \n",
    "    msg_bin = binascii.unhexlify(message)\n",
    "    tf = tempfile.NamedTemporaryFile(delete=True)\n",
    "    tf.write(msg_bin)\n",
    "    tf.flush()\n",
    "    \n",
    "    start = 0\n",
    "    end = 2\n",
    "    \n",
    "    proj, flat, dark = dxchange.read_aps_32id(tf.name, sino=(start,end))\n",
    "    theta = tomopy.angles(proj.shape[0])\n",
    "\n",
    "\n",
    "\n",
    "    if (theta is None):\n",
    "        theta = tomopy.angles(proj.shape[0])\n",
    "    else:\n",
    "        pass\n",
    "    \n",
    "    proj = tomopy.normalize(proj, flat, dark)\n",
    "    rot_center = tomopy.find_center(proj, theta, init=290, ind=0, tol=0.5)\n",
    "    proj = tomopy.minus_log(proj)\n",
    "    recon = tomopy.recon(proj, theta, center=rot_center, algorithm=algo)\n",
    "    \n",
    "    tf.close()\n",
    "    \n",
    "    return 0\n",
    "\n",
    "\n",
    "## create message\n",
    "data_file = 'tooth.h5'\n",
    "with open(data_file,'r') as f:\n",
    "    data = f.read()\n",
    "\n",
    "data_enc = binascii.hexlify(data).encode('utf-8')\n",
    "\n",
    "data_list = []\n",
    "for i in range(1):\n",
    "    data_list.append(data_enc)\n",
    "    \n",
    "data_list_rdd = sc.parallelize(data_list,len(data_list))\n",
    "\n",
    "tts = time.time()\n",
    "res = data_list_rdd.map(lightsource_reconstruction_spark).collect()\n",
    "tte = time.time()\n",
    "print res\n",
    "print 'gridrec TTC is: ', (tte-tts)\n",
    "\n",
    "    \n",
    "    "
   ]
  },
  {
   "cell_type": "code",
   "execution_count": 54,
   "metadata": {},
   "outputs": [
    {
     "name": "stdout",
     "output_type": "stream",
     "text": [
      "[0]\n",
      "sirt TTC is:  7.20622396469\n",
      "CPU times: user 16 ms, sys: 9.07 ms, total: 25.1 ms\n",
      "Wall time: 7.23 s\n"
     ]
    }
   ],
   "source": [
    "%%time \n",
    "def lightsource_reconstruction_spark(message, algo='sirt'):\n",
    "    \n",
    "    msg_bin = binascii.unhexlify(message)\n",
    "    tf = tempfile.NamedTemporaryFile(delete=True)\n",
    "    tf.write(msg_bin)\n",
    "    tf.flush()\n",
    "    \n",
    "    start = 0\n",
    "    end = 2\n",
    "    \n",
    "    proj, flat, dark = dxchange.read_aps_32id(tf.name, sino=(start,end))\n",
    "    theta = tomopy.angles(proj.shape[0])\n",
    "\n",
    "\n",
    "\n",
    "    if (theta is None):\n",
    "        theta = tomopy.angles(proj.shape[0])\n",
    "    else:\n",
    "        pass\n",
    "    \n",
    "    proj = tomopy.normalize(proj, flat, dark)\n",
    "    rot_center = tomopy.find_center(proj, theta, init=290, ind=0, tol=0.5)\n",
    "    proj = tomopy.minus_log(proj)\n",
    "    recon = tomopy.recon(proj, theta, center=rot_center, algorithm=algo)\n",
    "    \n",
    "    tf.close()\n",
    "    \n",
    "    return 0\n",
    "\n",
    "\n",
    "## create message\n",
    "data_file = 'tooth.h5'\n",
    "with open(data_file,'r') as f:\n",
    "    data = f.read()\n",
    "\n",
    "data_enc = binascii.hexlify(data).encode('utf-8')\n",
    "\n",
    "data_list = []\n",
    "for i in range(1):\n",
    "    data_list.append(data_enc)\n",
    "    \n",
    "data_list_rdd = sc.parallelize(data_list,len(data_list))\n",
    "\n",
    "tts = time.time()\n",
    "res = data_list_rdd.map(lightsource_reconstruction_spark).collect()\n",
    "tte = time.time()\n",
    "print res\n",
    "print 'sirt TTC is: ', (tte-tts)"
   ]
  },
  {
   "cell_type": "markdown",
   "metadata": {},
   "source": [
    "## Lightsource-(Sirt,Gridrec) Total time to completion vanilla "
   ]
  },
  {
   "cell_type": "code",
   "execution_count": 38,
   "metadata": {},
   "outputs": [
    {
     "name": "stdout",
     "output_type": "stream",
     "text": [
      "Gridrec ttc is: 2.27679395676\n",
      "Sirt ttc is: 3.95583701134\n"
     ]
    }
   ],
   "source": [
    "def lightsource_reconstruction(message,algorithm='gridrec'):\n",
    "\n",
    "    tt = time.time()\n",
    "\n",
    "    msg_bin = binascii.unhexlify(message)\n",
    "    tf = tempfile.NamedTemporaryFile(delete=True,suffix='.h5')\n",
    "    tf.write(msg_bin)\n",
    "    tf.flush()\n",
    "\n",
    "    tt = time.time() - tt\n",
    "\n",
    "\n",
    "    start_time = time.time()\n",
    "\n",
    "\n",
    "    start = 0\n",
    "    end = 2\n",
    "\n",
    "    proj, flat, dark= dxchange.read_aps_32id(tf.name, sino=(start, end))\n",
    "    theta = tomopy.angles(proj.shape[0])\n",
    "\n",
    "\n",
    "\n",
    "    if (theta is None):\n",
    "        theta = tomopy.angles(proj.shape[0])\n",
    "    else:\n",
    "        pass\n",
    "\n",
    "    proj = tomopy.normalize(proj, flat, dark)\n",
    "    rot_center = tomopy.find_center(proj, theta, init=290, ind=0, tol=0.5)\n",
    "    proj = tomopy.minus_log(proj)\n",
    "    recon = tomopy.recon(proj, theta, center=rot_center, algorithm=algorithm)\n",
    "\n",
    "    end_time = time.time()\n",
    "    ttc = end_time - start_time\n",
    "\n",
    "    #print 'Total time to completion of ' + algorithm  + '  algorithm is: ',  ttc\n",
    "    #print 'Total time to decode is: ' + str(tt)\n",
    "\n",
    "    tf.close()\n",
    "\n",
    "    return 0\n",
    "\n",
    "\n",
    "\n",
    "## create message:\n",
    "start = time.time()\n",
    "data_file = 'tooth.h5'\n",
    "with open(data_file, \"r\") as f:\n",
    "    data = f.read()\n",
    "data_enc = binascii.hexlify(data).encode('utf-8')\n",
    "end_data_generation = time.time()\n",
    "\n",
    "aa = time.time()\n",
    "for i in range(1):\n",
    "    lightsource_reconstruction(data_enc,'gridrec')\n",
    "\n",
    "print 'Gridrec ttc is:', str(time.time() - aa)\n",
    "\n",
    "\n",
    "aa = time.time()\n",
    "for i in range(1):\n",
    "    lightsource_reconstruction(data_enc,'sirt')\n",
    "\n",
    "print 'Sirt ttc is:', str(time.time() - aa)\n",
    "\n",
    "\n"
   ]
  },
  {
   "cell_type": "code",
   "execution_count": 56,
   "metadata": {},
   "outputs": [
    {
     "name": "stdout",
     "output_type": "stream",
     "text": [
      "Sirt ttc is: 3.85913586617\n",
      "Sirt ttc is: 3.77250313759\n",
      "Sirt ttc is: 3.80923914909\n",
      "Sirt ttc is: 3.54436302185\n",
      "Sirt ttc is: 3.53715085983\n",
      "Sirt ttc is: 3.52626299858\n",
      "Sirt ttc is: 3.4988720417\n",
      "Sirt ttc is: 3.61956191063\n",
      "Sirt ttc is: 3.84473419189\n",
      "Sirt ttc is: 3.8027920723\n"
     ]
    }
   ],
   "source": [
    "for i in range(10):\n",
    "    aa = time.time()\n",
    "    for i in range(1):\n",
    "        lightsource_reconstruction(data_enc,'sirt')\n",
    "\n",
    "    print 'Sirt ttc is:', str(time.time() - aa)\n"
   ]
  },
  {
   "cell_type": "code",
   "execution_count": null,
   "metadata": {},
   "outputs": [],
   "source": []
  }
 ],
 "metadata": {
  "kernelspec": {
   "display_name": "Python 2",
   "language": "python",
   "name": "python2"
  },
  "language_info": {
   "codemirror_mode": {
    "name": "ipython",
    "version": 2
   },
   "file_extension": ".py",
   "mimetype": "text/x-python",
   "name": "python",
   "nbconvert_exporter": "python",
   "pygments_lexer": "ipython2",
   "version": "2.7.14"
  }
 },
 "nbformat": 4,
 "nbformat_minor": 2
}
