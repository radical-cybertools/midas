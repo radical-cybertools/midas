{
 "cells": [
  {
   "cell_type": "code",
   "execution_count": 2,
   "metadata": {},
   "outputs": [
    {
     "name": "stderr",
     "output_type": "stream",
     "text": [
      "/Users/giorgoschantzialexiou/anaconda/lib/python2.7/site-packages/h5py/__init__.py:34: FutureWarning: Conversion of the second argument of issubdtype from `float` to `np.floating` is deprecated. In future, it will be treated as `np.float64 == np.dtype(float).type`.\n",
      "  from ._conv import register_converters as _register_converters\n"
     ]
    }
   ],
   "source": [
    "import tomopy\n",
    "import dxchange\n",
    "import matplotlib.pyplot as plt\n",
    "import time\n",
    "import binascii\n",
    "import tempfile"
   ]
  },
  {
   "cell_type": "markdown",
   "metadata": {},
   "source": [
    "## Spark lightsource-(Sirt,Gridrec) Total time to Completion "
   ]
  },
  {
   "cell_type": "code",
   "execution_count": 3,
   "metadata": {},
   "outputs": [
    {
     "name": "stdout",
     "output_type": "stream",
     "text": [
      "Avg time for gridrec algorithm is: 2.61919734478  in seconds\n"
     ]
    }
   ],
   "source": [
    "def lightsource_reconstruction_spark(message, algo='gridrec'):\n",
    "    \n",
    "    msg_bin = binascii.unhexlify(message)\n",
    "    tf = tempfile.NamedTemporaryFile(delete=True)\n",
    "    tf.write(msg_bin)\n",
    "    tf.flush()\n",
    "    \n",
    "    start = 0\n",
    "    end = 2\n",
    "    \n",
    "    proj, flat, dark = dxchange.read_aps_32id(tf.name, sino=(start,end))\n",
    "    theta = tomopy.angles(proj.shape[0])\n",
    "\n",
    "\n",
    "\n",
    "    if (theta is None):\n",
    "        theta = tomopy.angles(proj.shape[0])\n",
    "    else:\n",
    "        pass\n",
    "    \n",
    "    proj = tomopy.normalize(proj, flat, dark)\n",
    "    rot_center = tomopy.find_center(proj, theta, init=290, ind=0, tol=0.5)\n",
    "    proj = tomopy.minus_log(proj)\n",
    "    recon = tomopy.recon(proj, theta, center=rot_center, algorithm=algo)\n",
    "    \n",
    "    tf.close()\n",
    "    \n",
    "    return 0\n",
    "\n",
    "\n",
    "## create message\n",
    "data_file = 'tooth.h5'\n",
    "with open(data_file,'r') as f:\n",
    "    data = f.read()\n",
    "\n",
    "data_enc = binascii.hexlify(data).encode('utf-8')\n",
    "\n",
    "data_list = []\n",
    "for i in range(1):\n",
    "    data_list.append(data_enc)\n",
    "    \n",
    "data_list_rdd = sc.parallelize(data_list,len(data_list))\n",
    "\n",
    "avg_gridrec  = 0\n",
    "for i in range(10):\n",
    "    tts = time.time()\n",
    "    res = data_list_rdd.map(lightsource_reconstruction_spark).collect()\n",
    "    tte = time.time()\n",
    "    avg_gridrec += (tte - tts)\n",
    "avg_gridrec /= 10\n",
    "print 'Avg time for gridrec algorithm is:', str(avg_gridrec), ' in seconds'\n",
    "\n",
    "    "
   ]
  },
  {
   "cell_type": "code",
   "execution_count": 4,
   "metadata": {},
   "outputs": [
    {
     "name": "stdout",
     "output_type": "stream",
     "text": [
      "Avg time for sirt algorithm is: 3.83759682178  in seconds\n"
     ]
    }
   ],
   "source": [
    "def lightsource_reconstruction_spark(message, algo='sirt'):\n",
    "    \n",
    "    msg_bin = binascii.unhexlify(message)\n",
    "    tf = tempfile.NamedTemporaryFile(delete=True)\n",
    "    tf.write(msg_bin)\n",
    "    tf.flush()\n",
    "    \n",
    "    start = 0\n",
    "    end = 2\n",
    "    \n",
    "    proj, flat, dark = dxchange.read_aps_32id(tf.name, sino=(start,end))\n",
    "    theta = tomopy.angles(proj.shape[0])\n",
    "\n",
    "\n",
    "\n",
    "    if (theta is None):\n",
    "        theta = tomopy.angles(proj.shape[0])\n",
    "    else:\n",
    "        pass\n",
    "    \n",
    "    proj = tomopy.normalize(proj, flat, dark)\n",
    "    rot_center = tomopy.find_center(proj, theta, init=290, ind=0, tol=0.5)\n",
    "    proj = tomopy.minus_log(proj)\n",
    "    recon = tomopy.recon(proj, theta, center=rot_center, algorithm=algo)\n",
    "    \n",
    "    tf.close()\n",
    "    \n",
    "    return 0\n",
    "\n",
    "\n",
    "## create message\n",
    "data_file = 'tooth.h5'\n",
    "with open(data_file,'r') as f:\n",
    "    data = f.read()\n",
    "\n",
    "data_enc = binascii.hexlify(data).encode('utf-8')\n",
    "\n",
    "data_list = []\n",
    "for i in range(1):\n",
    "    data_list.append(data_enc)\n",
    "\n",
    "    \n",
    "data_list_rdd = sc.parallelize(data_list,len(data_list))\n",
    "avg_sirt  = 0\n",
    "for i in range(10):\n",
    "    tts = time.time()\n",
    "    res = data_list_rdd.map(lightsource_reconstruction_spark).collect()\n",
    "    tte = time.time()\n",
    "    #print res\n",
    "    #print 'sirt TTC is: ', (tte-tts)\n",
    "    avg_sirt += (tte -tts)\n",
    "avg_sirt /= 10\n",
    "print 'Avg time for sirt algorithm is:', str(avg_sirt), ' in seconds'\n",
    "\n"
   ]
  },
  {
   "cell_type": "code",
   "execution_count": 14,
   "metadata": {},
   "outputs": [
    {
     "name": "stdout",
     "output_type": "stream",
     "text": [
      "Gridrec is : 1.4651804796faster than sirt algorithm\n"
     ]
    }
   ],
   "source": [
    "print 'Gridrec is : ' + str(avg_sirt/avg_gridrec) + 'faster than sirt algorithm'"
   ]
  },
  {
   "cell_type": "markdown",
   "metadata": {},
   "source": [
    "## Lightsource-(Sirt,Gridrec) Total time to completion vanilla "
   ]
  },
  {
   "cell_type": "code",
   "execution_count": 6,
   "metadata": {},
   "outputs": [
    {
     "name": "stdout",
     "output_type": "stream",
     "text": [
      "Avg time for gridrec algorithm is: 2.50613749027  in seconds\n"
     ]
    }
   ],
   "source": [
    "def lightsource_reconstruction(message,algorithm='gridrec'):\n",
    "\n",
    "    tt = time.time()\n",
    "\n",
    "    msg_bin = binascii.unhexlify(message)\n",
    "    tf = tempfile.NamedTemporaryFile(delete=True,suffix='.h5')\n",
    "    tf.write(msg_bin)\n",
    "    tf.flush()\n",
    "\n",
    "    tt = time.time() - tt\n",
    "\n",
    "\n",
    "    start_time = time.time()\n",
    "\n",
    "\n",
    "    start = 0\n",
    "    end = 2\n",
    "\n",
    "    proj, flat, dark= dxchange.read_aps_32id(tf.name, sino=(start, end))\n",
    "    theta = tomopy.angles(proj.shape[0])\n",
    "\n",
    "\n",
    "\n",
    "    if (theta is None):\n",
    "        theta = tomopy.angles(proj.shape[0])\n",
    "    else:\n",
    "        pass\n",
    "\n",
    "    proj = tomopy.normalize(proj, flat, dark)\n",
    "    rot_center = tomopy.find_center(proj, theta, init=290, ind=0, tol=0.5)\n",
    "    proj = tomopy.minus_log(proj)\n",
    "    recon = tomopy.recon(proj, theta, center=rot_center, algorithm=algorithm)\n",
    "\n",
    "    end_time = time.time()\n",
    "    ttc = end_time - start_time\n",
    "\n",
    "    #print 'Total time to completion of ' + algorithm  + '  algorithm is: ',  ttc\n",
    "    #print 'Total time to decode is: ' + str(tt)\n",
    "\n",
    "    tf.close()\n",
    "\n",
    "    return 0\n",
    "\n",
    "\n",
    "\n",
    "## create message:\n",
    "start = time.time()\n",
    "data_file = 'tooth.h5'\n",
    "with open(data_file, \"r\") as f:\n",
    "    data = f.read()\n",
    "data_enc = binascii.hexlify(data).encode('utf-8')\n",
    "end_data_generation = time.time()\n",
    "\n",
    "\n",
    "\n",
    "avg_gridrec = 0\n",
    "for i in range(10):\n",
    "    aa = time.time()\n",
    "    for i in range(1):\n",
    "        lightsource_reconstruction(data_enc,'gridrec')\n",
    "    avg_gridrec += time.time() - aa\n",
    "    #print 'Sirt ttc is:', str(time.time() - aa)\n",
    "avg_gridrec /= 10\n",
    "print 'Avg time for gridrec algorithm is:', str(avg_gridrec), ' in seconds'\n",
    "\n",
    "\n"
   ]
  },
  {
   "cell_type": "code",
   "execution_count": 7,
   "metadata": {},
   "outputs": [
    {
     "name": "stdout",
     "output_type": "stream",
     "text": [
      "Avg time for sirt algorithm is: 3.96134998798  in seconds\n"
     ]
    }
   ],
   "source": [
    "avg_sirt  = 0\n",
    "for i in range(10):\n",
    "    aa = time.time()\n",
    "    for i in range(1):\n",
    "        lightsource_reconstruction(data_enc,'sirt')\n",
    "\n",
    "    avg_sirt += (time.time()-aa)\n",
    "avg_sirt /= 10\n",
    "print 'Avg time for sirt algorithm is:', str(avg_sirt), ' in seconds'\n"
   ]
  },
  {
   "cell_type": "code",
   "execution_count": 11,
   "metadata": {},
   "outputs": [
    {
     "name": "stdout",
     "output_type": "stream",
     "text": [
      "Gridrec is : 1.58065948231faster than sirt algorithm\n"
     ]
    }
   ],
   "source": [
    "print 'Gridrec is : ' + str(avg_sirt/avg_gridrec) + 'faster than sirt algorithm'"
   ]
  },
  {
   "cell_type": "code",
   "execution_count": null,
   "metadata": {},
   "outputs": [],
   "source": []
  }
 ],
 "metadata": {
  "kernelspec": {
   "display_name": "Python 2",
   "language": "python",
   "name": "python2"
  },
  "language_info": {
   "codemirror_mode": {
    "name": "ipython",
    "version": 2
   },
   "file_extension": ".py",
   "mimetype": "text/x-python",
   "name": "python",
   "nbconvert_exporter": "python",
   "pygments_lexer": "ipython2",
   "version": "2.7.14"
  }
 },
 "nbformat": 4,
 "nbformat_minor": 2
}
